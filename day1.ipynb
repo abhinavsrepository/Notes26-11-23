{
 "cells": [
  {
   "cell_type": "code",
   "execution_count": 1,
   "metadata": {},
   "outputs": [
    {
     "ename": "ModuleNotFoundError",
     "evalue": "No module named 'langchain'",
     "output_type": "error",
     "traceback": [
      "\u001b[1;31m---------------------------------------------------------------------------\u001b[0m",
      "\u001b[1;31mModuleNotFoundError\u001b[0m                       Traceback (most recent call last)",
      "\u001b[1;32mc:\\Users\\abhin\\OneDrive\\Desktop\\AIMLDL\\day1.ipynb Cell 1\u001b[0m line \u001b[0;36m1\n\u001b[1;32m----> <a href='vscode-notebook-cell:/c%3A/Users/abhin/OneDrive/Desktop/AIMLDL/day1.ipynb#W0sZmlsZQ%3D%3D?line=0'>1</a>\u001b[0m \u001b[39mfrom\u001b[39;00m \u001b[39mlangchain\u001b[39;00m\u001b[39m.\u001b[39;00m\u001b[39mschema\u001b[39;00m \u001b[39mimport\u001b[39;00m (\n\u001b[0;32m      <a href='vscode-notebook-cell:/c%3A/Users/abhin/OneDrive/Desktop/AIMLDL/day1.ipynb#W0sZmlsZQ%3D%3D?line=1'>2</a>\u001b[0m     AIMessage,\n\u001b[0;32m      <a href='vscode-notebook-cell:/c%3A/Users/abhin/OneDrive/Desktop/AIMLDL/day1.ipynb#W0sZmlsZQ%3D%3D?line=2'>3</a>\u001b[0m     HumanMessage, \n\u001b[0;32m      <a href='vscode-notebook-cell:/c%3A/Users/abhin/OneDrive/Desktop/AIMLDL/day1.ipynb#W0sZmlsZQ%3D%3D?line=3'>4</a>\u001b[0m     SystemMessage\n\u001b[0;32m      <a href='vscode-notebook-cell:/c%3A/Users/abhin/OneDrive/Desktop/AIMLDL/day1.ipynb#W0sZmlsZQ%3D%3D?line=4'>5</a>\u001b[0m )\n\u001b[0;32m      <a href='vscode-notebook-cell:/c%3A/Users/abhin/OneDrive/Desktop/AIMLDL/day1.ipynb#W0sZmlsZQ%3D%3D?line=5'>6</a>\u001b[0m \u001b[39mfrom\u001b[39;00m \u001b[39mlangchain\u001b[39;00m\u001b[39m.\u001b[39;00m\u001b[39mchat_models\u001b[39;00m \u001b[39mimport\u001b[39;00m ChatOpwnAI\n",
      "\u001b[1;31mModuleNotFoundError\u001b[0m: No module named 'langchain'"
     ]
    }
   ],
   "source": [
    "from langchain.schema import (\n",
    "    AIMessage,\n",
    "    HumanMessage, \n",
    "    SystemMessage\n",
    ")\n",
    "from langchain.chat_models import ChatOpwnAI"
   ]
  },
  {
   "cell_type": "code",
   "execution_count": null,
   "metadata": {},
   "outputs": [],
   "source": []
  }
 ],
 "metadata": {
  "kernelspec": {
   "display_name": "Python 3",
   "language": "python",
   "name": "python3"
  },
  "language_info": {
   "codemirror_mode": {
    "name": "ipython",
    "version": 3
   },
   "file_extension": ".py",
   "mimetype": "text/x-python",
   "name": "python",
   "nbconvert_exporter": "python",
   "pygments_lexer": "ipython3",
   "version": "3.12.0"
  }
 },
 "nbformat": 4,
 "nbformat_minor": 2
}
